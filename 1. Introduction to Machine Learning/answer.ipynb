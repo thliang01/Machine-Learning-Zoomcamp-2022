{
 "cells": [
  {
   "cell_type": "markdown",
   "metadata": {},
   "source": [
    "## import dependency"
   ]
  },
  {
   "cell_type": "code",
   "execution_count": 1,
   "metadata": {},
   "outputs": [],
   "source": [
    "import numpy as np\n",
    "import pandas as pd"
   ]
  },
  {
   "cell_type": "markdown",
   "metadata": {},
   "source": [
    "## Question 1\n",
    "### What's the version of NumPy that you installed?"
   ]
  },
  {
   "cell_type": "code",
   "execution_count": 2,
   "metadata": {},
   "outputs": [
    {
     "name": "stdout",
     "output_type": "stream",
     "text": [
      "1.21.5\n"
     ]
    }
   ],
   "source": [
    "print(np.__version__)"
   ]
  },
  {
   "cell_type": "markdown",
   "metadata": {},
   "source": [
    "## Question 2\n",
    "### How many records are in the dataset?"
   ]
  },
  {
   "cell_type": "code",
   "execution_count": 23,
   "metadata": {},
   "outputs": [
    {
     "name": "stdout",
     "output_type": "stream",
     "text": [
      "11914\n"
     ]
    }
   ],
   "source": [
    "df = pd.read_csv('data.csv')\n",
    "print(len(df))"
   ]
  },
  {
   "cell_type": "markdown",
   "metadata": {},
   "source": [
    "## Question 3\n",
    "### Who are the most popular car manufacturers (top-3) according to the dataset?"
   ]
  },
  {
   "cell_type": "code",
   "execution_count": 24,
   "metadata": {},
   "outputs": [
    {
     "name": "stdout",
     "output_type": "stream",
     "text": [
      "1123\n",
      "809\n",
      "746\n",
      "881\n",
      "809\n",
      "Chevrolet, Ford, Volkswagen\n"
     ]
    }
   ],
   "source": [
    "print(len(df[ df['Make'] == 'Chevrolet' ]))\n",
    "\n",
    "print(len(df[ df['Make'] == 'Volkswagen' ]))\n",
    "\n",
    "print(len(df[ df['Make'] == 'Toyota' ]))\n",
    "\n",
    "print(len(df[ df['Make'] == 'Ford' ]))\n",
    "\n",
    "print(len(df[ df['Make'] == 'Volkswagen' ]))\n",
    "\n",
    "print(\"Chevrolet, Ford, Volkswagen\")\n"
   ]
  },
  {
   "cell_type": "markdown",
   "metadata": {},
   "source": [
    "## Question 4\n",
    "### What's the number of unique Audi car models in the dataset?"
   ]
  },
  {
   "cell_type": "code",
   "execution_count": 39,
   "metadata": {},
   "outputs": [
    {
     "name": "stdout",
     "output_type": "stream",
     "text": [
      "26\n"
     ]
    }
   ],
   "source": [
    "# df[ df['Make'] == 'Audi' ]['Model']\n",
    "df.loc[df['Make'] == 'Audi']['Model']\n",
    "\n",
    "print(26)"
   ]
  },
  {
   "cell_type": "markdown",
   "metadata": {},
   "source": [
    "## Question 5\n",
    "### How many columns in the dataset have missing values?"
   ]
  },
  {
   "cell_type": "code",
   "execution_count": 28,
   "metadata": {},
   "outputs": [
    {
     "name": "stdout",
     "output_type": "stream",
     "text": [
      "Make                    0\n",
      "Model                   0\n",
      "Year                    0\n",
      "Engine Fuel Type        3\n",
      "Engine HP              69\n",
      "Engine Cylinders       30\n",
      "Transmission Type       0\n",
      "Driven_Wheels           0\n",
      "Number of Doors         6\n",
      "Market Category      3742\n",
      "Vehicle Size            0\n",
      "Vehicle Style           0\n",
      "highway MPG             0\n",
      "city mpg                0\n",
      "Popularity              0\n",
      "MSRP                    0\n",
      "dtype: int64\n",
      "--------------\n",
      "5\n"
     ]
    }
   ],
   "source": [
    "res = df.isnull().sum()\n",
    "print(res)\n",
    "print(\"--------------\")\n",
    "print(5)"
   ]
  },
  {
   "cell_type": "markdown",
   "metadata": {},
   "source": [
    "## Question 6\n",
    "\n",
    "1. Find the median value of \"Engine Cylinders\" column in the dataset.\n",
    "2. Next, calculate the most frequent value of the same \"Engine Cylinders\".\n",
    "3. Use the fillna method to fill the missing values in \"Engine Cylinders\" with the most frequent value from the previous step.\n",
    "4. Now, calculate the median value of \"Engine Cylinders\" once again.\n",
    "\n",
    "### Has it changed?"
   ]
  },
  {
   "cell_type": "code",
   "execution_count": 46,
   "metadata": {},
   "outputs": [
    {
     "name": "stdout",
     "output_type": "stream",
     "text": [
      "6.0\n",
      "0    4.0\n",
      "dtype: float64\n",
      "5.628828677213059\n",
      "--------------------\n",
      "Yes\n"
     ]
    }
   ],
   "source": [
    "# 1. Find the median value of \"Engine Cylinders\" column in the dataset.\n",
    "medcylinders = df['Engine Cylinders'].median()\n",
    "print(medcylinders)\n",
    "\n",
    "# 2. Next, calculate the most frequent value of the same \"Engine Cylinders\".\n",
    "mostcylinders = df['Engine Cylinders'].mode()\n",
    "print(mostcylinders)\n",
    "\n",
    "# 3. Use the fillna method to fill the missing values in \"Engine Cylinders\" with the most frequent value from the previous step.\n",
    "df['Engine Cylinders'] = df['Engine Cylinders'].fillna(mostcylinders)\n",
    "\n",
    "# 4. Now, calculate the median value of \"Engine Cylinders\" once again.\n",
    "new_medcylinders = df['Engine Cylinders'].mean()\n",
    "print(new_medcylinders)\n",
    "\n",
    "print(\"--------------------\")\n",
    "print('Yes')"
   ]
  },
  {
   "cell_type": "markdown",
   "metadata": {},
   "source": [
    "## Question 7\n",
    "\n",
    "* Select all the \"Lotus\" cars from the dataset.\n",
    "* Select only columns \"Engine HP\", \"Engine Cylinders\".\n",
    "* Now drop all duplicated rows using `drop_duplicates` method (you should get a dataframe with 9 rows).\n",
    "* Get the underlying NumPy array. Let's call it `X`.\n",
    "* Compute matrix-matrix multiplication between the transpose of `X` and `X`. To get the transpose, use `X.T`. Let's call the result `XTX`.\n",
    "* Invert `XTX`.\n",
    "* Create an array `y` with values `[1100, 800, 750, 850, 1300, 1000, 1000, 1300, 800]`.\n",
    "* Multiply the inverse of `XTX` with the transpose of `X`, and then multiply the result by `y`. Call the result `w`.\n",
    "* What's the value of the first element of `w`?"
   ]
  },
  {
   "cell_type": "code",
   "execution_count": 58,
   "metadata": {},
   "outputs": [
    {
     "name": "stdout",
     "output_type": "stream",
     "text": [
      "4.594944810094551\n"
     ]
    }
   ],
   "source": [
    "# Select all the \"Lotus\" cars from the dataset.\n",
    "res = df [ df['Make'] == 'Lotus' ]\n",
    "# print(res)\n",
    "\n",
    "# Select only columns \"Engine HP\", \"Engine Cylinders\".\n",
    "res = res[['Engine HP', 'Engine Cylinders']]\n",
    "# print(res)\n",
    "\n",
    "# Now drop all duplicated rows using `drop_duplicates` method (you should get a dataframe with 9 rows).\n",
    "res = res.drop_duplicates()\n",
    "# print(res)\n",
    "\n",
    "# Get the underlying NumPy array. Let's call it `X`.\n",
    "X = res.values\n",
    "# print(X)\n",
    "\n",
    "# Compute matrix-matrix multiplication between the transpose of `X` and `X`. To get the transpose, use `X.T`. Let's call the result `XTX`.\n",
    "XTX = X.T @ X\n",
    "\n",
    "# Invert `XTX`.\n",
    "invXTX = np.linalg.inv(XTX)\n",
    "\n",
    "# Create an array `y` with values `[1100, 800, 750, 850, 1300, 1000, 1000, 1300, 800]`.\n",
    "y = np.array([1100, 800, 750, 850, 1300, 1000, 1000, 1300, 800])\n",
    "\n",
    "# Multiply the inverse of `XTX` with the transpose of `X`, and then multiply the result by `y`. Call the result `w`.\n",
    "w = invXTX @ X.T @ y\n",
    "\n",
    "# What's the value of the first element of `w`?\n",
    "res = w[0]\n",
    "\n",
    "print(res)"
   ]
  }
 ],
 "metadata": {
  "kernelspec": {
   "display_name": "Python 3.8.10 64-bit",
   "language": "python",
   "name": "python3"
  },
  "language_info": {
   "codemirror_mode": {
    "name": "ipython",
    "version": 3
   },
   "file_extension": ".py",
   "mimetype": "text/x-python",
   "name": "python",
   "nbconvert_exporter": "python",
   "pygments_lexer": "ipython3",
   "version": "3.10.4"
  },
  "orig_nbformat": 4,
  "vscode": {
   "interpreter": {
    "hash": "916dbcbb3f70747c44a77c7bcd40155683ae19c65e1c03b4aa3499c5328201f1"
   }
  }
 },
 "nbformat": 4,
 "nbformat_minor": 2
}
